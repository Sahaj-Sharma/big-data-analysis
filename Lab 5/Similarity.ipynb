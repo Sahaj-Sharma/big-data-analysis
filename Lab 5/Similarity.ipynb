{
 "cells": [
  {
   "cell_type": "markdown",
   "metadata": {},
   "source": [
    "# Similarity"
   ]
  },
  {
   "cell_type": "markdown",
   "metadata": {},
   "source": [
    "We will work on applying similarity: Jaccard and Cosine similarity. This exercise is a simple application of the lecture."
   ]
  },
  {
   "cell_type": "markdown",
   "metadata": {},
   "source": [
    "Begin by importing the needed libraries:"
   ]
  },
  {
   "cell_type": "code",
   "execution_count": 1,
   "metadata": {},
   "outputs": [],
   "source": [
    "# import needed libraries\n",
    "import nltk\n",
    "import numpy as np\n",
    "import pandas as pd"
   ]
  },
  {
   "cell_type": "markdown",
   "metadata": {},
   "source": [
    "We will work with the following examples:"
   ]
  },
  {
   "cell_type": "code",
   "execution_count": 2,
   "metadata": {},
   "outputs": [],
   "source": [
    "A = \"Outside the classroom, Stallman pursued his studies with even more diligence, rushing off to fulfill his laboratory-assistant duties at Rockefeller University during the week and dodging the Vietnam protesters on his way to Saturday school at Columbia. It was there, while the rest of the Science Honors Program students sat around discussing their college choices, that Stallman finally took a moment to participate in the preclass bull session.\"\n",
    "B = \"To facilitate the process, AI Lab hackers had built a system that displayed both the source and display modes on a split screen. Despite this innovative hack, switching from mode to mode was still a nuisance.\"\n",
    "C = \"With no dorm and no dancing, Stallman's social universe imploded. Like an astronaut experiencing the aftereffects of zero-gravity, Stallman found that his ability to interact with nonhackers, especially female nonhackers, had atrophied significantly. After 16 weeks in the AI Lab, the self confidence he'd been quietly accumulating during his 4 years at Harvard was virtually gone.\""
   ]
  },
  {
   "cell_type": "markdown",
   "metadata": {},
   "source": [
    "Begin by computing the Jaccard Similarity J of all possibilities:\n",
    "* J(A, B)\n",
    "* J(B, C)\n",
    "* J(A, C)"
   ]
  },
  {
   "cell_type": "code",
   "execution_count": 6,
   "metadata": {},
   "outputs": [
    {
     "name": "stdout",
     "output_type": "stream",
     "text": [
      "Jaccard Similarity AB: 0.08536585365853659\n",
      "Jaccard Similarity BC: 0.09210526315789473\n",
      "Jaccard Similarity AC: 0.125\n"
     ]
    }
   ],
   "source": [
    "# TODO: compute the Jaccard similarities\n",
    "# Split the sentences\n",
    "a_list = A.split(' ')\n",
    "b_list = B.split(' ')\n",
    "c_list = C.split(' ')\n",
    "# Compute the intersection and union\n",
    "ab_int = len(list(set(a_list).intersection(b_list)))\n",
    "bc_int = len(list(set(b_list).intersection(c_list)))\n",
    "ac_int = len(list(set(a_list).intersection(c_list)))\n",
    "ab_un=(len(set(a_list)) + len(set(b_list))) - ab_int\n",
    "bc_un=(len(set(b_list)) + len(set(c_list))) - bc_int\n",
    "ac_un=(len(set(a_list)) + len(set(c_list))) - ac_int\n",
    "# Compute and print the Jaccard Similarity\n",
    "print('Jaccard Similarity AB:', float(ab_int)/ab_un)\n",
    "print('Jaccard Similarity BC:', float(bc_int)/bc_un)\n",
    "print('Jaccard Similarity AC:', float(ac_int)/ac_un)"
   ]
  },
  {
   "cell_type": "markdown",
   "metadata": {},
   "source": [
    "What are the closest to the other according to Jaccard Similarity?\n",
    "\n",
    "Now let's do the same using TF-IDF and Cosine Similarity. Compute the TF-IDF and cosine similarities and print them."
   ]
  },
  {
   "cell_type": "code",
   "execution_count": 11,
   "metadata": {
    "scrolled": true
   },
   "outputs": [
    {
     "name": "stdout",
     "output_type": "stream",
     "text": [
      "cos(A,B) : [[0.]]\n",
      "cos(B,C) : [[0.04388579]]\n",
      "cos(A,C) : [[0.06366317]]\n"
     ]
    }
   ],
   "source": [
    "# TODO: compute the TF-IDF of A, B and C and the cosine similarities of all possibilities\n",
    "from sklearn.metrics.pairwise import cosine_similarity\n",
    "from sklearn.feature_extraction.text import TfidfVectorizer\n",
    "\n",
    "alldata = [A,B,C]\n",
    "tfvect = TfidfVectorizer(stop_words=\"english\")\n",
    "tfvect.fit(alldata)\n",
    "\n",
    "TFIDFA = tfvect.transform([A]).toarray()\n",
    "TFIDFB = tfvect.transform([B]).toarray()\n",
    "TFIDFC = tfvect.transform([C]).toarray()\n",
    "\n",
    "similarityAB = cosine_similarity(TFIDFA, TFIDFB)\n",
    "similarityBC = cosine_similarity(TFIDFB, TFIDFC)\n",
    "similarityAC = cosine_similarity(TFIDFA, TFIDFC)\n",
    "\n",
    "print('cos(A,B) :',similarityAB)\n",
    "print('cos(B,C) :',similarityBC)\n",
    "print('cos(A,C) :',similarityAC)"
   ]
  },
  {
   "cell_type": "markdown",
   "metadata": {},
   "source": [
    "Is it consistent with the Jaccard values?"
   ]
  }
 ],
 "metadata": {
  "kernelspec": {
   "display_name": "Python 3 (ipykernel)",
   "language": "python",
   "name": "python3"
  },
  "language_info": {
   "codemirror_mode": {
    "name": "ipython",
    "version": 3
   },
   "file_extension": ".py",
   "mimetype": "text/x-python",
   "name": "python",
   "nbconvert_exporter": "python",
   "pygments_lexer": "ipython3",
   "version": "3.9.12"
  },
  "toc": {
   "base_numbering": 1,
   "nav_menu": {},
   "number_sections": true,
   "sideBar": true,
   "skip_h1_title": false,
   "title_cell": "Table of Contents",
   "title_sidebar": "Contents",
   "toc_cell": false,
   "toc_position": {},
   "toc_section_display": true,
   "toc_window_display": false
  }
 },
 "nbformat": 4,
 "nbformat_minor": 2
}
